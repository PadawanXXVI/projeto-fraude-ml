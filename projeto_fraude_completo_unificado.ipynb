{
 "cells": [
  {
   "cell_type": "markdown",
   "id": "18e9e978",
   "metadata": {},
   "source": [
    "# 💳 Projeto de Detecção de Fraudes em Cartões de Crédito"
   ]
  },
  {
   "cell_type": "markdown",
   "id": "c95abcc3",
   "metadata": {},
   "source": [
    "\n",
    "Este projeto utiliza aprendizado de máquina supervisionado para identificar transações financeiras fraudulentas, com base em um conjunto de dados do Kaggle.\n",
    "A abordagem segue a metodologia CRISP-DM e utiliza validação cruzada, SMOTE, TF-IDF e modelos como Regressão Logística e Floresta Aleatória.\n"
   ]
  },
  {
   "cell_type": "markdown",
   "id": "4c0b9aaf",
   "metadata": {},
   "source": [
    "## 📚 Importação das Bibliotecas"
   ]
  },
  {
   "cell_type": "code",
   "execution_count": null,
   "id": "77ef0381",
   "metadata": {},
   "outputs": [],
   "source": [
    "\n",
    "import pandas as pd\n",
    "import numpy as np\n",
    "import matplotlib.pyplot as plt\n",
    "import seaborn as sns\n",
    "\n",
    "from sklearn.model_selection import train_test_split, cross_val_score\n",
    "from sklearn.preprocessing import StandardScaler\n",
    "from sklearn.metrics import classification_report, ConfusionMatrixDisplay\n",
    "from sklearn.linear_model import LogisticRegression\n",
    "from sklearn.ensemble import RandomForestClassifier\n",
    "from imblearn.over_sampling import SMOTE\n",
    "\n",
    "import pickle\n",
    "import warnings\n",
    "warnings.filterwarnings(\"ignore\")\n"
   ]
  },
  {
   "cell_type": "markdown",
   "id": "fec8cb6e",
   "metadata": {},
   "source": [
    "## 📥 Carregamento do Dataset"
   ]
  },
  {
   "cell_type": "code",
   "execution_count": null,
   "id": "cad24190",
   "metadata": {},
   "outputs": [],
   "source": [
    "\n",
    "url = \"https://storage.googleapis.com/download.tensorflow.org/data/creditcard.csv\"\n",
    "df = pd.read_csv(url)\n",
    "df.shape\n"
   ]
  },
  {
   "cell_type": "markdown",
   "id": "970f227d",
   "metadata": {},
   "source": [
    "## ✂️ Divisão do Conjunto de Dados (60/20/20)"
   ]
  },
  {
   "cell_type": "markdown",
   "id": "d2da7d14",
   "metadata": {},
   "source": [
    "\n",
    "- 60% para treino (com balanceamento SMOTE)\n",
    "- 20% para validação\n",
    "- 20% para teste\n",
    "A divisão é estratificada para manter a proporção da classe alvo.\n"
   ]
  },
  {
   "cell_type": "code",
   "execution_count": null,
   "id": "ba2bf406",
   "metadata": {},
   "outputs": [],
   "source": [
    "\n",
    "X = df.drop(\"Class\", axis=1)\n",
    "y = df[\"Class\"]\n",
    "\n",
    "# 20% Teste, 80% Treino + Validação\n",
    "X_temp, X_test, y_temp, y_test = train_test_split(\n",
    "    X, y, test_size=0.2, stratify=y, random_state=42\n",
    ")\n",
    "\n",
    "# Dos 80%, separa 25% para validação → 20% total\n",
    "X_train, X_val, y_train, y_val = train_test_split(\n",
    "    X_temp, y_temp, test_size=0.25, stratify=y_temp, random_state=42\n",
    ")\n"
   ]
  },
  {
   "cell_type": "markdown",
   "id": "d152604f",
   "metadata": {},
   "source": [
    "## ⚖️ Normalização com StandardScaler"
   ]
  },
  {
   "cell_type": "code",
   "execution_count": null,
   "id": "a0278795",
   "metadata": {},
   "outputs": [],
   "source": [
    "\n",
    "scaler = StandardScaler()\n",
    "X_train_scaled = scaler.fit_transform(X_train)\n",
    "X_val_scaled = scaler.transform(X_val)\n",
    "X_test_scaled = scaler.transform(X_test)\n"
   ]
  },
  {
   "cell_type": "markdown",
   "id": "33850e3a",
   "metadata": {},
   "source": [
    "## 🧪 Aplicação do SMOTE no Conjunto de Treinamento"
   ]
  },
  {
   "cell_type": "code",
   "execution_count": null,
   "id": "12197f9d",
   "metadata": {},
   "outputs": [],
   "source": [
    "\n",
    "smote = SMOTE(random_state=42)\n",
    "X_train_bal, y_train_bal = smote.fit_resample(X_train_scaled, y_train)\n"
   ]
  },
  {
   "cell_type": "markdown",
   "id": "66fc1d13",
   "metadata": {},
   "source": [
    "## 🤖 Modelos de Classificação"
   ]
  },
  {
   "cell_type": "code",
   "execution_count": null,
   "id": "a7d4ff25",
   "metadata": {},
   "outputs": [],
   "source": [
    "\n",
    "models = {\n",
    "    \"Logistic Regression\": LogisticRegression(),\n",
    "    \"Random Forest\": RandomForestClassifier(n_estimators=100, random_state=42)\n",
    "}\n",
    "\n",
    "for name, model in models.items():\n",
    "    print(f\"\\n{name}\")\n",
    "    model.fit(X_train_bal, y_train_bal)\n",
    "    y_pred = model.predict(X_val_scaled)\n",
    "    print(classification_report(y_val, y_pred))\n",
    "    ConfusionMatrixDisplay.from_estimator(model, X_val_scaled, y_val)\n",
    "    plt.title(name)\n",
    "    plt.show()\n"
   ]
  },
  {
   "cell_type": "markdown",
   "id": "38df2c84",
   "metadata": {},
   "source": [
    "## 💾 Salvando o Melhor Modelo com Pickle"
   ]
  },
  {
   "cell_type": "code",
   "execution_count": null,
   "id": "4129a17f",
   "metadata": {},
   "outputs": [],
   "source": [
    "\n",
    "best_model = models[\"Random Forest\"]\n",
    "with open(\"modelo_random_forest.pkl\", \"wb\") as f:\n",
    "    pickle.dump(best_model, f)\n"
   ]
  }
 ],
 "metadata": {},
 "nbformat": 4,
 "nbformat_minor": 5
}

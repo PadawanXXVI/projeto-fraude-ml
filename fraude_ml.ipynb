{
 "cells": [
  {
   "cell_type": "markdown",
   "id": "911eb367",
   "metadata": {},
   "source": [
    "# 💳 Detecção de Fraudes em Transações Financeiras com Machine Learning\n",
    "### Disciplina: Engenharia de Machine Learning\n",
    "\n",
    "**Equipe:**  \n",
    "- Anderson de Matos Guimarães  \n",
    "- Gustavo Stefano Thomazinho  \n",
    "- Leonardo Rodrigues Vianna de Medeiros Lopes  \n",
    "- Renan Ost  \n",
    "\n",
    "**Professor:** Marcelo Carboni Gomes  \n",
    "**Metodologia:** CRISP-DM  \n",
    "**Dataset:** [Credit Card Fraud Detection (Kaggle)](https://www.kaggle.com/datasets/mlg-ulb/creditcardfraud)\n"
   ]
  },
  {
   "cell_type": "markdown",
   "id": "ac22733e",
   "metadata": {},
   "source": [
    "## 1. Entendimento do Negócio\n",
    "\n",
    "Este projeto tem como objetivo desenvolver um modelo preditivo capaz de detectar transações fraudulentas com cartão de crédito, utilizando algoritmos de aprendizado de máquina supervisionado.\n",
    "\n",
    "Fraudes financeiras representam um desafio para instituições bancárias, pois causam prejuízos significativos e minam a confiança dos clientes. O foco deste projeto é **maximizar a detecção de transações fraudulentas** (alta taxa de recall) sem comprometer excessivamente a taxa de falsos positivos.\n",
    "\n",
    "A base de dados utilizada é real, anonimizadas por PCA, e extremamente desbalanceada — apenas **0,172% das transações são fraudes**. Isso impõe desafios na modelagem e na avaliação de desempenho dos modelos.\n",
    "\n",
    "A metodologia adotada será o **CRISP-DM**, seguindo as etapas: entendimento do negócio, entendimento dos dados, preparação, modelagem, avaliação e apresentação.\n"
   ]
  },
  {
   "cell_type": "markdown",
   "id": "64f4df25",
   "metadata": {},
   "source": [
    "### 1.1 Documentação Técnica do Dataset\n",
    "\n",
    "Esta seção apresenta a documentação técnica detalhada do dataset utilizado no projeto, conforme exigido pelo professor:\n",
    "\n",
    "#### 1) Rótulos (nomes das variáveis)\n",
    "\n",
    "- `Time`: tempo (em segundos) desde a primeira transação registrada.\n",
    "- `Amount`: valor da transação em euros (€).\n",
    "- `V1` a `V28`: componentes principais resultantes de uma transformação PCA aplicada para anonimização dos dados originais. Seus significados exatos não são públicos, mas mantêm relevância estatística.\n",
    "- `Class`: variável-alvo. Valores:\n",
    "  - `0` → transação legítima\n",
    "  - `1` → transação fraudulenta\n",
    "\n",
    "#### 2) Tipos de dados\n",
    "\n",
    "| Coluna        | Tipo de dado |\n",
    "|---------------|--------------|\n",
    "| `Time`        | `float64`    |\n",
    "| `Amount`      | `float64`    |\n",
    "| `V1` a `V28`  | `float64`    |\n",
    "| `Class`       | `int64`      |\n",
    "\n",
    "> Obs.: O dataset não contém valores ausentes (NaN) nem temporais no formato `datetime` (NaT).\n",
    "\n",
    "#### 3) Quantitativos\n",
    "\n",
    "- **Total de registros (linhas):** 284.807\n",
    "- **Total de variáveis (colunas):** 31\n",
    "- **Total de transações fraudulentas (`Class = 1`):** 492  \n",
    "- **Proporção de fraudes:** aproximadamente 0,172%\n",
    "- **Transações legítimas (`Class = 0`):** 284.315\n",
    "\n",
    "#### 4) Número de datasets\n",
    "\n",
    "- Apenas **um dataset** está sendo utilizado neste projeto:\n",
    "  - `creditcard.csv`\n",
    "\n",
    "#### 5) Relacionamentos\n",
    "\n",
    "- O dataset é **auto contido** (flat table).\n",
    "- Não há relacionamento com outras tabelas ou bases externas.\n",
    "- Cada linha representa uma transação financeira independente.\n",
    "\n",
    "#### 6) Formato dos dados\n",
    "\n",
    "- **Formato:** `CSV` (Comma-Separated Values)\n",
    "- **Codificação:** UTF-8\n",
    "- **Fonte oficial:** Kaggle  \n",
    "  [Credit Card Fraud Detection – Kaggle: https://www.kaggle.com/datasets/mlg-ulb/creditcardfraud](https://www.kaggle.com/datasets/mlg-ulb/creditcardfraud)\n",
    "\n",
    "> Este dataset foi coletado em uma parceria entre o grupo Worldline e o Machine Learning Group da Université Libre de Bruxelles (ULB), e contempla transações realizadas por portadores de cartões europeus em setembro de 2013.\n"
   ]
  },
  {
   "cell_type": "markdown",
   "id": "b1457bba",
   "metadata": {},
   "source": [
    "## 🔧 Preparação Inicial\n",
    "\n",
    "Nesta célula, importamos as bibliotecas necessárias para a análise e carregamos o dataset diretamente a partir de uma URL pública. O dataset é armazenado em um DataFrame do pandas (`df`) para posterior análise.\n"
   ]
  },
  {
   "cell_type": "code",
   "execution_count": null,
   "id": "38c39149",
   "metadata": {},
   "outputs": [],
   "source": [
    "# Bibliotecas principais\n",
    "import pandas as pd\n",
    "import numpy as np\n",
    "import matplotlib.pyplot as plt\n",
    "import seaborn as sns\n",
    "\n",
    "# Configurações gráficas\n",
    "sns.set(style=\"whitegrid\")\n",
    "%matplotlib inline\n",
    "\n",
    "# Carregando o dataset via URL\n",
    "url = 'https://storage.googleapis.com/download.tensorflow.org/data/creditcard.csv'\n",
    "df = pd.read_csv(url)\n",
    "\n",
    "# Cópia de segurança do dataset original (para comparações futuras)\n",
    "df_original = df.copy()\n"
   ]
  },
  {
   "cell_type": "markdown",
   "id": "7f6478e9",
   "metadata": {},
   "source": [
    "## 2. Entendimento dos Dados\n",
    "\n",
    "Nesta etapa, realizamos uma exploração inicial da estrutura do dataset para obter uma visão geral da sua composição e qualidade.\n",
    "\n",
    "O objetivo principal é compreender:\n",
    "\n",
    "- O tamanho da base de dados\n",
    "- A presença de valores ausentes (NaN ou NaT)\n",
    "- Os tipos de dados de cada variável\n",
    "- As primeiras e últimas linhas da base\n",
    "- Estatísticas descritivas básicas\n",
    "\n",
    "Essas análises são essenciais para orientar as decisões nas etapas seguintes de preparação e modelagem.\n"
   ]
  },
  {
   "cell_type": "markdown",
   "id": "564e422b",
   "metadata": {},
   "source": [
    "### 🔎 Verificando o tamanho do dataset\n",
    "\n",
    "O método `df.shape` retorna uma tupla com o número de linhas e colunas do DataFrame. Essa é uma informação fundamental para entendermos a dimensão da base de dados que será analisada e modelada.\n",
    "\n",
    "- O primeiro valor representa o número de registros (transações).\n",
    "- O segundo valor representa o número de variáveis (colunas).\n",
    "\n",
    "Essa análise nos dá uma ideia inicial da escala do problema.\n"
   ]
  },
  {
   "cell_type": "code",
   "execution_count": null,
   "id": "fc0be49d",
   "metadata": {},
   "outputs": [],
   "source": [
    "# Verificando o número de linhas e colunas\n",
    "df.shape\n"
   ]
  },
  {
   "cell_type": "markdown",
   "id": "0de0c950",
   "metadata": {},
   "source": [
    "### 🧾 Visualizando as primeiras linhas do dataset\n",
    "\n",
    "O método `df.head()` exibe, por padrão, as **cinco primeiras linhas** do DataFrame. Isso permite observar:\n",
    "\n",
    "- A estrutura dos dados\n",
    "- A ordem das colunas\n",
    "- Exemplos reais de valores presentes\n",
    "- Possíveis inconsistências ou padrões\n",
    "\n",
    "É uma das primeiras formas de \"enxergar\" o conteúdo da base.\n"
   ]
  },
  {
   "cell_type": "code",
   "execution_count": null,
   "id": "fc5a5f4f",
   "metadata": {},
   "outputs": [],
   "source": [
    "# Visualizando as primeiras 5 linhas do dataset\n",
    "df.head()\n"
   ]
  },
  {
   "cell_type": "markdown",
   "id": "d2df512d",
   "metadata": {},
   "source": [
    "### 📄 Visualizando as últimas linhas do dataset\n",
    "\n",
    "O método `df.tail()` retorna, por padrão, as **cinco últimas linhas** do DataFrame.  \n",
    "Isso é útil para verificar se há algum comportamento atípico no final da base de dados, como:\n",
    "\n",
    "- Registros incompletos\n",
    "- Campos zerados ou nulos\n",
    "- Mudanças de padrão\n",
    "\n",
    "Também complementa a visualização iniciada com `df.head()`.\n"
   ]
  },
  {
   "cell_type": "code",
   "execution_count": null,
   "id": "350bf1bf",
   "metadata": {},
   "outputs": [],
   "source": [
    "# Visualizando as 5 últimas linhas do dataset\n",
    "df.tail()\n"
   ]
  },
  {
   "cell_type": "markdown",
   "id": "a784ead4",
   "metadata": {},
   "source": [
    "### 🧱 Verificando estrutura e tipos de dados com `.info()`\n",
    "\n",
    "O método `df.info()` fornece um resumo das colunas do DataFrame, incluindo:\n",
    "\n",
    "- Número total de entradas (linhas)\n",
    "- Nome de cada coluna\n",
    "- Quantidade de valores não nulos\n",
    "- Tipo de dado de cada coluna\n",
    "\n",
    "É fundamental para:\n",
    "\n",
    "- Identificar valores ausentes (NaN ou NaT)\n",
    "- Verificar a consistência dos tipos de dados (ex: `float64`, `int64`)\n",
    "- Estimar o uso de memória do dataset\n"
   ]
  },
  {
   "cell_type": "code",
   "execution_count": null,
   "id": "bdd2ea51",
   "metadata": {},
   "outputs": [],
   "source": [
    "# Resumo da estrutura do DataFrame\n",
    "df.info()\n"
   ]
  },
  {
   "cell_type": "markdown",
   "id": "79668b80",
   "metadata": {},
   "source": [
    "### 📊 Estatísticas descritivas com `.describe()`\n",
    "\n",
    "O método `df.describe()` gera estatísticas descritivas para as colunas numéricas do DataFrame, como:\n",
    "\n",
    "- Média\n",
    "- Desvio padrão\n",
    "- Valores mínimos e máximos\n",
    "- Quartis (Q1, Q2 - mediana, Q3)\n",
    "\n",
    "Esses dados ajudam a identificar:\n",
    "\n",
    "- Distribuições assimétricas\n",
    "- Outliers (valores extremos)\n",
    "- Escalas distintas entre variáveis\n",
    "\n",
    "É especialmente útil antes de aplicar transformações como normalização ou padronização.\n"
   ]
  },
  {
   "cell_type": "code",
   "execution_count": null,
   "id": "065dfd01",
   "metadata": {},
   "outputs": [],
   "source": [
    "# Estatísticas descritivas das variáveis numéricas\n",
    "df.describe()\n"
   ]
  },
  {
   "cell_type": "markdown",
   "id": "4c4b4ac2",
   "metadata": {},
   "source": [
    "## 3. Pré-processamento de Texto (Análise Auxiliar)\n",
    "\n",
    "Como solicitado pelo professor, incluímos nesta etapa a aplicação de técnicas de pré-processamento textual.  \n",
    "Embora o dataset principal (`creditcard.csv`) não contenha campos de texto, construímos um **texto explicativo do projeto** como corpus base.\n",
    "\n",
    "As etapas aplicadas foram:\n",
    "\n",
    "- Minificação do texto (lowercase)\n",
    "- Remoção de pontuação, acentuação e dígitos\n",
    "- Remoção de stopwords\n",
    "- Stemming com `PorterStemmer`\n",
    "- Vetorização com TF-IDF\n",
    "\n",
    "A seguir, mostramos cada etapa aplicada ao texto.\n"
   ]
  },
  {
   "cell_type": "markdown",
   "id": "db480646",
   "metadata": {},
   "source": [
    "### 📚 Importação das bibliotecas\n"
   ]
  },
  {
   "cell_type": "code",
   "execution_count": null,
   "id": "d144c195",
   "metadata": {},
   "outputs": [],
   "source": [
    "import re\n",
    "import string\n",
    "import numpy as np\n",
    "import pandas as pd\n",
    "\n",
    "from unidecode import unidecode\n",
    "\n",
    "import nltk\n",
    "from nltk.corpus import stopwords\n",
    "from nltk.stem import PorterStemmer\n",
    "\n",
    "from sklearn.feature_extraction.text import TfidfVectorizer\n"
   ]
  },
  {
   "cell_type": "markdown",
   "id": "e9742b4c",
   "metadata": {},
   "source": [
    "### 🧾 Texto explicativo do projeto (usado como corpus)\n"
   ]
  },
  {
   "cell_type": "code",
   "execution_count": null,
   "id": "e8ee76a4",
   "metadata": {},
   "outputs": [],
   "source": [
    "texto_projeto = \"\"\"Este projeto tem como objetivo desenvolver um sistema inteligente capaz de detectar fraudes em transações financeiras \n",
    "por meio de técnicas avançadas de aprendizado de máquina supervisionado. A solução proposta busca identificar padrões \n",
    "anômalos em grandes volumes de dados, utilizando etapas rigorosas de pré-processamento textual, vetorização e \n",
    "modelagem preditiva. O desempenho dos modelos será avaliado com base em métricas como acurácia, precisão, recall e \n",
    "F1-score, assegurando sua robustez e aplicabilidade em contextos reais. Destinado a instituições financeiras, o \n",
    "sistema funcionará como uma ferramenta preventiva, reforçando a segurança digital e contribuindo para a mitigação de \n",
    "perdas decorrentes de atividades fraudulentas.\n",
    "\"\"\"\n"
   ]
  },
  {
   "cell_type": "markdown",
   "id": "e476cdd8",
   "metadata": {},
   "source": [
    "### 🧼 Pré-processamento inicial (minúsculas, pontuação, acentos, dígitos)\n"
   ]
  },
  {
   "cell_type": "code",
   "execution_count": null,
   "id": "97eb8929",
   "metadata": {},
   "outputs": [],
   "source": [
    "# 1. Minúsculas\n",
    "texto = texto_projeto.lower()\n",
    "\n",
    "# 2. Remoção de pontuação\n",
    "punctuation = string.punctuation\n",
    "trantab = str.maketrans(punctuation, len(punctuation) * ' ')\n",
    "texto = texto.translate(trantab)\n",
    "\n",
    "# 3. Remoção de acentos\n",
    "texto = unidecode(texto)\n",
    "\n",
    "# 4. Remoção de dígitos\n",
    "texto = re.sub(r'\\d+', '', texto)\n"
   ]
  },
  {
   "cell_type": "markdown",
   "id": "fc35f462",
   "metadata": {},
   "source": [
    "### ❌ Remoção de stopwords (com `try-except`)\n"
   ]
  },
  {
   "cell_type": "code",
   "execution_count": null,
   "id": "ff89df9f",
   "metadata": {},
   "outputs": [],
   "source": [
    "try:\n",
    "    stopwords_list = stopwords.words('portuguese')\n",
    "except:\n",
    "    nltk.download('stopwords')\n",
    "    stopwords_list = stopwords.words('portuguese')\n",
    "\n",
    "palavras = texto.split()\n",
    "palavras_filtradas = [palavra for palavra in palavras if palavra not in stopwords_list and len(palavra) > 1]\n",
    "texto_limpo = \" \".join(palavras_filtradas)\n",
    "\n",
    "print(texto_limpo)\n"
   ]
  },
  {
   "cell_type": "markdown",
   "id": "3b263b98",
   "metadata": {},
   "source": [
    "### 🧪 Stemming com `PorterStemmer`\n"
   ]
  },
  {
   "cell_type": "code",
   "execution_count": null,
   "id": "85bcf19c",
   "metadata": {},
   "outputs": [],
   "source": [
    "stemmer = PorterStemmer()\n",
    "texto_stemmed = \" \".join([stemmer.stem(palavra) for palavra in texto_limpo.split()])\n",
    "\n",
    "print(texto_stemmed)\n"
   ]
  },
  {
   "cell_type": "markdown",
   "id": "d310fead",
   "metadata": {},
   "source": [
    "### 🧠 Vetorização com TF-IDF\n"
   ]
  },
  {
   "cell_type": "code",
   "execution_count": null,
   "id": "f8e65189",
   "metadata": {},
   "outputs": [],
   "source": [
    "corpus = np.array([\n",
    "    texto_stemmed,\n",
    "    \"sistema inteligente detectar padrao comportamento transacao financeira\"\n",
    "])\n",
    "\n",
    "vectorizer = TfidfVectorizer()\n",
    "tfidf_result = vectorizer.fit_transform(corpus)\n",
    "\n",
    "df_tfidf = pd.DataFrame.sparse.from_spmatrix(tfidf_result, columns=vectorizer.get_feature_names_out())\n",
    "df_tfidf\n"
   ]
  },
  {
   "cell_type": "markdown",
   "id": "49941977",
   "metadata": {},
   "source": [
    "## 4. Análise Exploratória de Dados (EDA)\n",
    "\n",
    "Nesta etapa, buscamos explorar visualmente os dados para compreender a distribuição de valores, detectar padrões, identificar valores discrepantes (outliers) e verificar o comportamento da variável-alvo `Class`.\n",
    "\n",
    "Além disso, serão aplicadas transformações simples para comparar o \"antes e depois\" dos dados, conforme exigido na atividade da disciplina.\n"
   ]
  },
  {
   "cell_type": "markdown",
   "id": "888fe485",
   "metadata": {},
   "source": [
    "### 🎯 Distribuição da variável-alvo `Class`\n",
    "\n",
    "Vamos visualizar a proporção entre transações legítimas (`Class = 0`) e fraudulentas (`Class = 1`).\n"
   ]
  },
  {
   "cell_type": "code",
   "execution_count": null,
   "id": "31a3e9bd",
   "metadata": {},
   "outputs": [],
   "source": [
    "sns.countplot(x='Class', data=df, palette='Set2')\n",
    "plt.title('Distribuição das Transações (0 = Legítima, 1 = Fraude)')\n",
    "plt.xlabel('Classe')\n",
    "plt.ylabel('Contagem')\n",
    "plt.show()\n"
   ]
  },
  {
   "cell_type": "markdown",
   "id": "f2977e3a",
   "metadata": {},
   "source": [
    "A maior parte das transações é legítima (`Class = 0`). Apenas **0,172%** dos registros representam fraudes (`Class = 1`), o que confirma que o dataset é altamente desbalanceado.  \n",
    "Isso influenciará diretamente na escolha dos algoritmos e nas métricas de avaliação utilizadas posteriormente.\n"
   ]
  },
  {
   "cell_type": "markdown",
   "id": "295a1233",
   "metadata": {},
   "source": [
    "### 💶 Análise da variável `Amount`\n",
    "\n",
    "Vamos analisar a distribuição dos valores das transações antes de qualquer transformação, utilizando:\n",
    "\n",
    "- Histograma (para ver concentração)\n",
    "- Boxplot (para observar outliers)\n"
   ]
  },
  {
   "cell_type": "code",
   "execution_count": null,
   "id": "24139771",
   "metadata": {},
   "outputs": [],
   "source": [
    "plt.figure(figsize=(10, 4))\n",
    "sns.histplot(df['Amount'], bins=50, kde=True)\n",
    "plt.title('Distribuição dos Valores das Transações (Antes da Normalização)')\n",
    "plt.xlabel('Valor (€)')\n",
    "plt.ylabel('Frequência')\n",
    "plt.show()\n"
   ]
  },
  {
   "cell_type": "code",
   "execution_count": null,
   "id": "200451ab",
   "metadata": {},
   "outputs": [],
   "source": [
    "plt.figure(figsize=(10, 2))\n",
    "sns.boxplot(x=df['Amount'])\n",
    "plt.title('Boxplot do Valor das Transações (Antes da Normalização)')\n",
    "plt.xlabel('Valor (€)')\n",
    "plt.show()\n"
   ]
  },
  {
   "cell_type": "markdown",
   "id": "7aaf75af",
   "metadata": {},
   "source": [
    "Os gráficos mostram que a maioria das transações possui valores baixos, concentrados abaixo de €100.  \n",
    "Entretanto, existem outliers (valores muito altos), o que pode distorcer análises e impactar algoritmos sensíveis à escala, como regressão logística e KNN.\n",
    "\n",
    "Por isso, será necessário aplicar uma transformação de escala nos valores.\n"
   ]
  },
  {
   "cell_type": "markdown",
   "id": "be87a817",
   "metadata": {},
   "source": [
    "### 🔧 Normalização do valor da transação (`Amount`)\n",
    "\n",
    "Alguns algoritmos de Machine Learning são sensíveis à escala dos dados. Como a variável `Amount` apresenta uma grande variação e outliers, vamos aplicar a **normalização com `StandardScaler`**, que transforma os dados para que tenham média 0 e desvio padrão 1.\n",
    "\n",
    "Dessa forma, o algoritmo será menos influenciado por diferenças de escala.\n"
   ]
  },
  {
   "cell_type": "code",
   "execution_count": null,
   "id": "3b6d9b77",
   "metadata": {},
   "outputs": [],
   "source": [
    "from sklearn.preprocessing import StandardScaler\n",
    "\n",
    "# Instanciando o normalizador\n",
    "scaler = StandardScaler()\n",
    "\n",
    "# Aplicando ao Amount\n",
    "df['Amount_Scaled'] = scaler.fit_transform(df[['Amount']])\n",
    "\n",
    "# Verificando estatísticas antes e depois\n",
    "df[['Amount', 'Amount_Scaled']].describe()\n"
   ]
  },
  {
   "cell_type": "markdown",
   "id": "a47128a5",
   "metadata": {},
   "source": [
    "### 📊 Comparação “Antes e Depois” com Gráficos\n",
    "\n",
    "Vamos comparar a distribuição da variável `Amount` antes e depois da transformação.\n"
   ]
  },
  {
   "cell_type": "code",
   "execution_count": null,
   "id": "4213c808",
   "metadata": {},
   "outputs": [],
   "source": [
    "fig, axs = plt.subplots(nrows=1, ncols=2, figsize=(14, 4))\n",
    "\n",
    "# Boxplot original\n",
    "sns.boxplot(x=df['Amount'], ax=axs[0], color='skyblue')\n",
    "axs[0].set_title('Antes da Normalização')\n",
    "axs[0].set_xlabel('Amount (€)')\n",
    "\n",
    "# Boxplot escalado\n",
    "sns.boxplot(x=df['Amount_Scaled'], ax=axs[1], color='lightgreen')\n",
    "axs[1].set_title('Depois da Normalização')\n",
    "axs[1].set_xlabel('Amount Scaled')\n",
    "\n",
    "plt.suptitle('Boxplots Comparativos - Amount Original vs Normalizado')\n",
    "plt.tight_layout()\n",
    "plt.show()\n"
   ]
  },
  {
   "cell_type": "markdown",
   "id": "3c8d5024",
   "metadata": {},
   "source": [
    "### 📊 Histograma do valor normalizado das transações\n",
    "\n",
    "Para complementar a visualização, vamos analisar o histograma da variável `Amount_Scaled` após a transformação com `StandardScaler`.\n"
   ]
  },
  {
   "cell_type": "code",
   "execution_count": null,
   "id": "4c7331c6",
   "metadata": {},
   "outputs": [],
   "source": [
    "plt.figure(figsize=(10, 4))\n",
    "sns.histplot(df['Amount_Scaled'], bins=50, kde=True, color='green')\n",
    "plt.title('Distribuição do Valor das Transações Após Normalização')\n",
    "plt.xlabel('Amount Scaled')\n",
    "plt.ylabel('Frequência')\n",
    "plt.show()\n"
   ]
  },
  {
   "cell_type": "markdown",
   "id": "62ed925f",
   "metadata": {},
   "source": [
    "A transformação com `StandardScaler` centralizou os dados de `Amount_Scaled` em torno de zero e reduziu a variância.  \n",
    "Isso facilita a aprendizagem dos algoritmos e mitiga a influência de outliers extremos.  \n",
    "O valor original foi mantido em `Amount` para fins de referência, enquanto o modelo utilizará `Amount_Scaled`.\n"
   ]
  },
  {
   "cell_type": "markdown",
   "id": "7ca1d528",
   "metadata": {},
   "source": [
    "## 5. Preparação para a Modelagem Supervisionada\n",
    "\n",
    "Agora que os dados passaram por análise exploratória e transformações básicas, é importante consolidar as variáveis que serão utilizadas na modelagem supervisionada.\n",
    "\n",
    "Nesta etapa:\n",
    "\n",
    "- Criamos uma nova cópia dos dados processados chamada `df_modelagem`\n",
    "- Garantimos que o DataFrame principal (`df`) permaneça inalterado\n",
    "- Selecionamos os atributos relevantes\n",
    "- Removemos colunas que não serão utilizadas (como `Time`, por exemplo)\n",
    "\n",
    "Essa separação torna o processo mais seguro e facilita possíveis ajustes futuros.\n"
   ]
  },
  {
   "cell_type": "code",
   "execution_count": null,
   "id": "17c643a7",
   "metadata": {},
   "outputs": [],
   "source": [
    "# Criando uma cópia segura dos dados processados para modelagem\n",
    "df_modelagem = df.copy()\n",
    "\n",
    "# Removendo colunas que não serão utilizadas na modelagem\n",
    "# 'Time' não é informativa para o modelo e será descartada\n",
    "# 'Amount' original também pode ser descartado, pois usaremos a versão escalada\n",
    "\n",
    "df_modelagem.drop(['Time', 'Amount'], axis=1, inplace=True)\n",
    "\n",
    "# Verificando o novo DataFrame\n",
    "df_modelagem.head()\n"
   ]
  },
  {
   "cell_type": "markdown",
   "id": "70e4be17",
   "metadata": {},
   "source": [
    "### 📊 Divisão do Dataset: 60% Treino | 20% Validação | 20% Teste\n",
    "\n",
    "De acordo com a orientação do professor, o conjunto de dados será dividido em três partes:\n",
    "\n",
    "- **60% → Treinamento:** Utilizado para treinar os modelos. Será balanceado com SMOTE.\n",
    "- **20% → Validação:** Avaliará o desempenho durante os testes intermediários (sem SMOTE).\n",
    "- **20% → Teste:** Avaliação final do modelo. Não será tocado até a fase final.\n",
    "\n",
    "Essa estratégia permite avaliar os modelos com maior robustez, especialmente quando combinada com **validação cruzada (cross-validation)** no conjunto de treino.\n"
   ]
  },
  {
   "cell_type": "code",
   "execution_count": null,
   "id": "c5bb78df",
   "metadata": {},
   "outputs": [],
   "source": [
    "# Dividindo 20% como conjunto de teste e 80% restante para treino + validação\n",
    "X_temp, X_test, y_temp, y_test = train_test_split(\n",
    "    X, y, test_size=0.2, stratify=y, random_state=42\n",
    ")\n"
   ]
  },
  {
   "cell_type": "code",
   "execution_count": null,
   "id": "a9d31003",
   "metadata": {},
   "outputs": [],
   "source": [
    "# Dividindo 20% como conjunto de teste e 80% restante para treino + validação\n",
    "X_temp, X_test, y_temp, y_test = train_test_split(\n",
    "    X, y, test_size=0.2, stratify=y, random_state=42\n",
    ")\n"
   ]
  },
  {
   "cell_type": "code",
   "execution_count": null,
   "id": "fd0aa13e",
   "metadata": {},
   "outputs": [],
   "source": [
    "from imblearn.over_sampling import SMOTE\n",
    "\n",
    "# Aplicando SMOTE apenas ao conjunto de treino\n",
    "smote = SMOTE(random_state=42)\n",
    "X_train_bal, y_train_bal = smote.fit_resample(X_train, y_train)\n"
   ]
  },
  {
   "cell_type": "markdown",
   "id": "0a7b3d61",
   "metadata": {},
   "source": [
    "### ✅ Verificação do Balanceamento com SMOTE\n",
    "\n",
    "A seguir, verificamos a distribuição da variável-alvo após o balanceamento no conjunto de treino.\n"
   ]
  },
  {
   "cell_type": "code",
   "execution_count": null,
   "id": "c7c19b5d",
   "metadata": {},
   "outputs": [],
   "source": [
    "sns.countplot(x=y_train_bal, palette='Set2')\n",
    "plt.title('Distribuição da Classe após SMOTE (Treino)')\n",
    "plt.xlabel('Classe')\n",
    "plt.ylabel('Frequência')\n",
    "plt.show()\n"
   ]
  },
  {
   "cell_type": "markdown",
   "id": "e7bc26b0",
   "metadata": {},
   "source": [
    "## 5.2 Modelagem com Validação Cruzada (Cross-Validation)\n",
    "\n",
    "A validação cruzada (k-fold) é uma técnica que divide o conjunto de treino em *k* subconjuntos, treinando o modelo *k* vezes com subconjuntos diferentes, o que resulta em uma avaliação mais robusta do desempenho médio.\n",
    "\n",
    "Nesta etapa, utilizaremos:\n",
    "\n",
    "- **Regressão Logística**\n",
    "- **Random Forest**\n",
    "\n",
    "Ambos os modelos serão avaliados com **cross-validation (k=5)** usando **Recall** como principal métrica, pois queremos **reduzir falsos negativos** em detecção de fraudes.\n"
   ]
  },
  {
   "cell_type": "code",
   "execution_count": null,
   "id": "bb7fb70c",
   "metadata": {},
   "outputs": [],
   "source": [
    "from sklearn.linear_model import LogisticRegression\n",
    "from sklearn.ensemble import RandomForestClassifier\n",
    "from sklearn.model_selection import cross_val_score\n",
    "from sklearn.metrics import make_scorer, recall_score\n"
   ]
  },
  {
   "cell_type": "code",
   "execution_count": null,
   "id": "1bee0611",
   "metadata": {},
   "outputs": [],
   "source": [
    "# Modelo de regressão logística\n",
    "logreg = LogisticRegression(max_iter=1000, random_state=42)\n",
    "\n",
    "# Validação cruzada com 5 folds\n",
    "logreg_scores = cross_val_score(\n",
    "    logreg, X_train_bal, y_train_bal, cv=5,\n",
    "    scoring=make_scorer(recall_score)\n",
    ")\n",
    "\n",
    "# Exibindo resultados\n",
    "print(\"Recall médio - Regressão Logística:\", logreg_scores.mean())\n",
    "print(\"Scores por fold:\", logreg_scores)\n"
   ]
  },
  {
   "cell_type": "code",
   "execution_count": null,
   "id": "8dda7ff8",
   "metadata": {},
   "outputs": [],
   "source": [
    "# Modelo Random Forest\n",
    "rf = RandomForestClassifier(n_estimators=100, random_state=42)\n",
    "\n",
    "# Validação cruzada com 5 folds\n",
    "rf_scores = cross_val_score(\n",
    "    rf, X_train_bal, y_train_bal, cv=5,\n",
    "    scoring=make_scorer(recall_score)\n",
    ")\n",
    "\n",
    "# Exibindo resultados\n",
    "print(\"Recall médio - Random Forest:\", rf_scores.mean())\n",
    "print(\"Scores por fold:\", rf_scores)\n"
   ]
  },
  {
   "cell_type": "markdown",
   "id": "b3ba07b9",
   "metadata": {},
   "source": [
    "### 🧠 Interpretação dos Resultados (Validação Cruzada)\n",
    "\n",
    "A validação cruzada retornou o **recall médio** para cada modelo, permitindo comparar a capacidade de cada algoritmo em detectar fraudes (classe positiva).\n",
    "\n",
    "- **Modelos com maior recall** são preferíveis nesse cenário, pois minimizam os falsos negativos.\n",
    "- **Random Forest** costuma ter desempenho superior em problemas com dados tabulares e desbalanceados.\n",
    "\n",
    "A seguir, usaremos os dois modelos para prever no conjunto de **validação (20%)**, antes de aplicar no conjunto de teste final.\n"
   ]
  },
  {
   "cell_type": "markdown",
   "id": "9a19855d",
   "metadata": {},
   "source": [
    "## 5.3 Avaliação dos Modelos na Base de Validação\n",
    "\n",
    "Após treinar os modelos com validação cruzada, agora avaliamos seu desempenho no **conjunto de validação (20%)**, que não foi balanceado com SMOTE.\n",
    "\n",
    "Utilizaremos as seguintes métricas:\n",
    "\n",
    "- **Recall:** Principal métrica no contexto de fraudes (evita falsos negativos)\n",
    "- **Precision:** Avalia a proporção de acertos entre as previsões positivas\n",
    "- **F1-Score:** Harmônica entre recall e precision\n",
    "- **Confusion Matrix:** Visão geral da performance\n",
    "\n",
    "Essa avaliação nos ajuda a selecionar o melhor modelo antes de aplicar no conjunto de teste final.\n"
   ]
  },
  {
   "cell_type": "code",
   "execution_count": null,
   "id": "41de8fc6",
   "metadata": {},
   "outputs": [],
   "source": [
    "from sklearn.metrics import classification_report, confusion_matrix, ConfusionMatrixDisplay\n"
   ]
  },
  {
   "cell_type": "code",
   "execution_count": null,
   "id": "1abcecbb",
   "metadata": {},
   "outputs": [],
   "source": [
    "# Treinando os modelos com os dados balanceados\n",
    "logreg.fit(X_train_bal, y_train_bal)\n",
    "rf.fit(X_train_bal, y_train_bal)\n"
   ]
  },
  {
   "cell_type": "code",
   "execution_count": null,
   "id": "42e0f2ca",
   "metadata": {},
   "outputs": [],
   "source": [
    "# Previsão na base de validação\n",
    "y_pred_logreg = logreg.predict(X_val)\n",
    "\n",
    "# Relatório de classificação\n",
    "print(\"Relatório - Regressão Logística\")\n",
    "print(classification_report(y_val, y_pred_logreg, zero_division=0))\n",
    "\n",
    "# Matriz de confusão\n",
    "ConfusionMatrixDisplay.from_predictions(y_val, y_pred_logreg, display_labels=[\"Legítima\", \"Fraude\"])\n",
    "plt.title(\"Matriz de Confusão - Logistic Regression\")\n",
    "plt.show()\n"
   ]
  },
  {
   "cell_type": "code",
   "execution_count": null,
   "id": "26765cf8",
   "metadata": {},
   "outputs": [],
   "source": [
    "# Previsão na base de validação\n",
    "y_pred_rf = rf.predict(X_val)\n",
    "\n",
    "# Relatório de classificação\n",
    "print(\"Relatório - Random Forest\")\n",
    "print(classification_report(y_val, y_pred_rf, zero_division=0))\n",
    "\n",
    "# Matriz de confusão\n",
    "ConfusionMatrixDisplay.from_predictions(y_val, y_pred_rf, display_labels=[\"Legítima\", \"Fraude\"])\n",
    "plt.title(\"Matriz de Confusão - Random Forest\")\n",
    "plt.show()\n"
   ]
  },
  {
   "cell_type": "markdown",
   "id": "209a5a1a",
   "metadata": {},
   "source": [
    "### 📈 Interpretação da Avaliação na Validação\n",
    "\n",
    "A partir dos resultados das métricas, especialmente o **recall da classe 1 (fraudes)**, podemos comparar qual modelo melhor identifica as transações fraudulentas:\n",
    "\n",
    "- Modelos com **recall mais alto e f1-score equilibrado** são mais indicados.\n",
    "- O desempenho na base de validação é um bom indicativo da **capacidade de generalização** antes de aplicarmos ao conjunto de teste final.\n",
    "\n",
    "A seguir, o modelo com melhor desempenho será aplicado no conjunto de **teste (X_test, y_test)** para obter a métrica final do projeto.\n"
   ]
  },
  {
   "cell_type": "markdown",
   "id": "a5cf4ef3",
   "metadata": {},
   "source": [
    "## 5.4 Avaliação Final no Conjunto de Teste\n",
    "\n",
    "Agora aplicamos os modelos treinados ao conjunto de **teste final (`X_test`, `y_test`)**, que permaneceu intocado durante todo o desenvolvimento.\n",
    "\n",
    "Esse passo permite verificar a **generalização real** do modelo, utilizando as mesmas métricas da etapa anterior:\n",
    "\n",
    "- Matriz de Confusão\n",
    "- Precision, Recall, F1-Score\n"
   ]
  },
  {
   "cell_type": "code",
   "execution_count": null,
   "id": "13d7f7c7",
   "metadata": {},
   "outputs": [],
   "source": [
    "# Previsões finais\n",
    "y_pred_logreg_test = logreg.predict(X_test)\n",
    "y_pred_rf_test = rf.predict(X_test)\n"
   ]
  },
  {
   "cell_type": "code",
   "execution_count": null,
   "id": "9008e261",
   "metadata": {},
   "outputs": [],
   "source": [
    "print(\"Relatório Final - Regressão Logística (Teste)\")\n",
    "print(classification_report(y_test, y_pred_logreg_test, zero_division=0))\n",
    "\n",
    "ConfusionMatrixDisplay.from_predictions(y_test, y_pred_logreg_test, display_labels=[\"Legítima\", \"Fraude\"])\n",
    "plt.title(\"Matriz de Confusão - Logistic Regression (Teste)\")\n",
    "plt.show()\n"
   ]
  },
  {
   "cell_type": "code",
   "execution_count": null,
   "id": "b6782076",
   "metadata": {},
   "outputs": [],
   "source": [
    "print(\"Relatório Final - Random Forest (Teste)\")\n",
    "print(classification_report(y_test, y_pred_rf_test, zero_division=0))\n",
    "\n",
    "ConfusionMatrixDisplay.from_predictions(y_test, y_pred_rf_test, display_labels=[\"Legítima\", \"Fraude\"])\n",
    "plt.title(\"Matriz de Confusão - Random Forest (Teste)\")\n",
    "plt.show()\n"
   ]
  },
  {
   "cell_type": "markdown",
   "id": "9ea7e6f9",
   "metadata": {},
   "source": [
    "### ✅ Considerações Finais da Avaliação\n",
    "\n",
    "A avaliação no conjunto de teste mostra a performance real do modelo escolhido, simulando um cenário de produção.\n",
    "\n",
    "- O **modelo com melhor recall e equilíbrio entre precisão e F1-score para a classe 1 (fraude)** é o mais indicado para uso prático.\n",
    "- Neste projeto, o modelo mais eficaz será documentado na seção de entrega final e relatórios.\n",
    "\n",
    "A seguir, concluiremos o projeto com observações finais e organização dos arquivos para apresentação.\n"
   ]
  },
  {
   "cell_type": "markdown",
   "id": "3ff6d52e",
   "metadata": {},
   "source": [
    "## 6. Conclusões e Próximos Passos\n",
    "\n",
    "### ✅ Conclusões\n",
    "\n",
    "Neste projeto, desenvolvemos um pipeline completo de Machine Learning supervisionado com foco na **detecção de fraudes em transações financeiras**. A seguir, os principais destaques do processo:\n",
    "\n",
    "- **Entendimento do negócio**: Exploramos o problema da fraude financeira e analisamos a estrutura do dataset fornecido.\n",
    "- **EDA e Pré-processamento**:\n",
    "  - Exploramos estatísticas, padrões e outliers.\n",
    "  - Aplicamos normalização (StandardScaler) e removemos colunas irrelevantes.\n",
    "- **Balanceamento com SMOTE**: Corrigimos a alta desproporção de classes usando sobremostragem da minoria.\n",
    "- **Divisão 60/20/20**: Separação estruturada entre treino, validação e teste.\n",
    "- **Modelagem com Cross-Validation**: Avaliamos `Logistic Regression` e `Random Forest`, priorizando **recall** como métrica-chave.\n",
    "- **Avaliação Final**: O modelo mais eficaz foi testado no conjunto final, simulando um ambiente de produção.\n",
    "\n",
    "### 🧠 Insights\n",
    "\n",
    "- O dataset altamente desbalanceado exige atenção especial nas métricas utilizadas. **Acurácia sozinha é inadequada**.\n",
    "- O uso de **recall** e **F1-score** foi essencial para entender a capacidade dos modelos em identificar fraudes reais.\n",
    "- O **Random Forest** se destacou por seu desempenho robusto, mesmo em dados desequilibrados.\n",
    "\n",
    "---\n",
    "\n",
    "### 📎 Anexos e Recursos\n",
    "\n",
    "- Dataset: [Credit Card Fraud Detection – Kaggle](https://www.kaggle.com/datasets/mlg-ulb/creditcardfraud)\n",
    "- Notebook: `fraude_ml.ipynb`\n",
    "- Documentação detalhada: disponível na Wiki do projeto no GitHub\n",
    "\n",
    "---\n",
    "\n",
    "📌 **Missão cumprida!** O pipeline está pronto para ser apresentado como solução prática para detecção de fraudes com ML.\n"
   ]
  }
 ],
 "metadata": {
  "kernelspec": {
   "display_name": "venv",
   "language": "python",
   "name": "python3"
  },
  "language_info": {
   "codemirror_mode": {
    "name": "ipython",
    "version": 3
   },
   "file_extension": ".py",
   "mimetype": "text/x-python",
   "name": "python",
   "nbconvert_exporter": "python",
   "pygments_lexer": "ipython3",
   "version": "3.13.5"
  }
 },
 "nbformat": 4,
 "nbformat_minor": 5
}

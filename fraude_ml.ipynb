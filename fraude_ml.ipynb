{
 "cells": [
  {
   "cell_type": "markdown",
   "id": "911eb367",
   "metadata": {},
   "source": [
    "# 💳 Detecção de Fraudes em Transações Financeiras com Machine Learning\n",
    "### Disciplina: Engenharia de Machine Learning\n",
    "\n",
    "**Equipe:**  \n",
    "- Anderson de Matos Guimarães  \n",
    "- Gustavo Stefano Thomazinho  \n",
    "- Leonardo Rodrigues Vianna de Medeiros Lopes  \n",
    "- Renan Ost  \n",
    "\n",
    "**Professor:** Marcelo Carboni Gomes  \n",
    "**Metodologia:** CRISP-DM  \n",
    "**Dataset:** [Credit Card Fraud Detection (Kaggle)](https://www.kaggle.com/datasets/mlg-ulb/creditcardfraud)\n"
   ]
  },
  {
   "cell_type": "markdown",
   "id": "ac22733e",
   "metadata": {},
   "source": [
    "## 1. Entendimento do Negócio\n",
    "\n",
    "Este projeto tem como objetivo desenvolver um modelo preditivo capaz de detectar transações fraudulentas com cartão de crédito, utilizando algoritmos de aprendizado de máquina supervisionado.\n",
    "\n",
    "Fraudes financeiras representam um desafio para instituições bancárias, pois causam prejuízos significativos e minam a confiança dos clientes. O foco deste projeto é **maximizar a detecção de transações fraudulentas** (alta taxa de recall) sem comprometer excessivamente a taxa de falsos positivos.\n",
    "\n",
    "A base de dados utilizada é real, anonimizadas por PCA, e extremamente desbalanceada — apenas **0,172% das transações são fraudes**. Isso impõe desafios na modelagem e na avaliação de desempenho dos modelos.\n",
    "\n",
    "A metodologia adotada será o **CRISP-DM**, seguindo as etapas: entendimento do negócio, entendimento dos dados, preparação, modelagem, avaliação e apresentação.\n"
   ]
  },
  {
   "cell_type": "markdown",
   "id": "64f4df25",
   "metadata": {},
   "source": [
    "### 1.1 Documentação Técnica do Dataset\n",
    "\n",
    "Esta seção apresenta a documentação técnica detalhada do dataset utilizado no projeto, conforme exigido pelo professor:\n",
    "\n",
    "#### 1) Rótulos (nomes das variáveis)\n",
    "\n",
    "- `Time`: tempo (em segundos) desde a primeira transação registrada.\n",
    "- `Amount`: valor da transação em euros (€).\n",
    "- `V1` a `V28`: componentes principais resultantes de uma transformação PCA aplicada para anonimização dos dados originais. Seus significados exatos não são públicos, mas mantêm relevância estatística.\n",
    "- `Class`: variável-alvo. Valores:\n",
    "  - `0` → transação legítima\n",
    "  - `1` → transação fraudulenta\n",
    "\n",
    "#### 2) Tipos de dados\n",
    "\n",
    "| Coluna        | Tipo de dado |\n",
    "|---------------|--------------|\n",
    "| `Time`        | `float64`    |\n",
    "| `Amount`      | `float64`    |\n",
    "| `V1` a `V28`  | `float64`    |\n",
    "| `Class`       | `int64`      |\n",
    "\n",
    "> Obs.: O dataset não contém valores ausentes (NaN) nem temporais no formato `datetime` (NaT).\n",
    "\n",
    "#### 3) Quantitativos\n",
    "\n",
    "- **Total de registros (linhas):** 284.807\n",
    "- **Total de variáveis (colunas):** 31\n",
    "- **Total de transações fraudulentas (`Class = 1`):** 492  \n",
    "- **Proporção de fraudes:** aproximadamente 0,172%\n",
    "- **Transações legítimas (`Class = 0`):** 284.315\n",
    "\n",
    "#### 4) Número de datasets\n",
    "\n",
    "- Apenas **um dataset** está sendo utilizado neste projeto:\n",
    "  - `creditcard.csv`\n",
    "\n",
    "#### 5) Relacionamentos\n",
    "\n",
    "- O dataset é **auto contido** (flat table).\n",
    "- Não há relacionamento com outras tabelas ou bases externas.\n",
    "- Cada linha representa uma transação financeira independente.\n",
    "\n",
    "#### 6) Formato dos dados\n",
    "\n",
    "- **Formato:** `CSV` (Comma-Separated Values)\n",
    "- **Codificação:** UTF-8\n",
    "- **Fonte oficial:** Kaggle  \n",
    "  [Credit Card Fraud Detection – Kaggle: https://www.kaggle.com/datasets/mlg-ulb/creditcardfraud](https://www.kaggle.com/datasets/mlg-ulb/creditcardfraud)\n",
    "\n",
    "> Este dataset foi coletado em uma parceria entre o grupo Worldline e o Machine Learning Group da Université Libre de Bruxelles (ULB), e contempla transações realizadas por portadores de cartões europeus em setembro de 2013.\n"
   ]
  },
  {
   "cell_type": "markdown",
   "id": "b1457bba",
   "metadata": {},
   "source": [
    "## 🔧 Preparação Inicial\n",
    "\n",
    "Nesta célula, importamos as bibliotecas necessárias para a análise e carregamos o dataset diretamente a partir de uma URL pública. O dataset é armazenado em um DataFrame do pandas (`df`) para posterior análise.\n"
   ]
  },
  {
   "cell_type": "code",
   "execution_count": null,
   "id": "38c39149",
   "metadata": {
    "vscode": {
     "languageId": "plaintext"
    }
   },
   "outputs": [],
   "source": [
    "# Bibliotecas principais\n",
    "import pandas as pd\n",
    "import numpy as np\n",
    "import matplotlib.pyplot as plt\n",
    "import seaborn as sns\n",
    "\n",
    "# Configurações gráficas\n",
    "sns.set(style=\"whitegrid\")\n",
    "%matplotlib inline\n",
    "\n",
    "# Carregando o dataset via URL\n",
    "url = 'https://storage.googleapis.com/download.tensorflow.org/data/creditcard.csv'\n",
    "df = pd.read_csv(url)\n",
    "\n",
    "# Cópia de segurança do dataset original (para comparações futuras)\n",
    "df_original = df.copy()\n"
   ]
  },
  {
   "cell_type": "markdown",
   "id": "7f6478e9",
   "metadata": {},
   "source": [
    "## 2. Entendimento dos Dados\n",
    "\n",
    "Nesta etapa, realizamos uma exploração inicial da estrutura do dataset para obter uma visão geral da sua composição e qualidade.\n",
    "\n",
    "O objetivo principal é compreender:\n",
    "\n",
    "- O tamanho da base de dados\n",
    "- A presença de valores ausentes (NaN ou NaT)\n",
    "- Os tipos de dados de cada variável\n",
    "- As primeiras e últimas linhas da base\n",
    "- Estatísticas descritivas básicas\n",
    "\n",
    "Essas análises são essenciais para orientar as decisões nas etapas seguintes de preparação e modelagem.\n"
   ]
  },
  {
   "cell_type": "markdown",
   "id": "564e422b",
   "metadata": {},
   "source": [
    "### 🔎 Verificando o tamanho do dataset\n",
    "\n",
    "O método `df.shape` retorna uma tupla com o número de linhas e colunas do DataFrame. Essa é uma informação fundamental para entendermos a dimensão da base de dados que será analisada e modelada.\n",
    "\n",
    "- O primeiro valor representa o número de registros (transações).\n",
    "- O segundo valor representa o número de variáveis (colunas).\n",
    "\n",
    "Essa análise nos dá uma ideia inicial da escala do problema.\n"
   ]
  },
  {
   "cell_type": "code",
   "execution_count": null,
   "id": "fc0be49d",
   "metadata": {
    "vscode": {
     "languageId": "plaintext"
    }
   },
   "outputs": [],
   "source": [
    "# Verificando o número de linhas e colunas\n",
    "df.shape\n"
   ]
  },
  {
   "cell_type": "markdown",
   "id": "0de0c950",
   "metadata": {},
   "source": [
    "### 🧾 Visualizando as primeiras linhas do dataset\n",
    "\n",
    "O método `df.head()` exibe, por padrão, as **cinco primeiras linhas** do DataFrame. Isso permite observar:\n",
    "\n",
    "- A estrutura dos dados\n",
    "- A ordem das colunas\n",
    "- Exemplos reais de valores presentes\n",
    "- Possíveis inconsistências ou padrões\n",
    "\n",
    "É uma das primeiras formas de \"enxergar\" o conteúdo da base.\n"
   ]
  },
  {
   "cell_type": "code",
   "execution_count": null,
   "id": "fc5a5f4f",
   "metadata": {
    "vscode": {
     "languageId": "plaintext"
    }
   },
   "outputs": [],
   "source": [
    "# Visualizando as primeiras 5 linhas do dataset\n",
    "df.head()\n"
   ]
  },
  {
   "cell_type": "markdown",
   "id": "d2df512d",
   "metadata": {},
   "source": [
    "### 📄 Visualizando as últimas linhas do dataset\n",
    "\n",
    "O método `df.tail()` retorna, por padrão, as **cinco últimas linhas** do DataFrame.  \n",
    "Isso é útil para verificar se há algum comportamento atípico no final da base de dados, como:\n",
    "\n",
    "- Registros incompletos\n",
    "- Campos zerados ou nulos\n",
    "- Mudanças de padrão\n",
    "\n",
    "Também complementa a visualização iniciada com `df.head()`.\n"
   ]
  },
  {
   "cell_type": "code",
   "execution_count": null,
   "id": "350bf1bf",
   "metadata": {
    "vscode": {
     "languageId": "plaintext"
    }
   },
   "outputs": [],
   "source": [
    "# Visualizando as 5 últimas linhas do dataset\n",
    "df.tail()\n"
   ]
  },
  {
   "cell_type": "markdown",
   "id": "a784ead4",
   "metadata": {},
   "source": [
    "### 🧱 Verificando estrutura e tipos de dados com `.info()`\n",
    "\n",
    "O método `df.info()` fornece um resumo das colunas do DataFrame, incluindo:\n",
    "\n",
    "- Número total de entradas (linhas)\n",
    "- Nome de cada coluna\n",
    "- Quantidade de valores não nulos\n",
    "- Tipo de dado de cada coluna\n",
    "\n",
    "É fundamental para:\n",
    "\n",
    "- Identificar valores ausentes (NaN ou NaT)\n",
    "- Verificar a consistência dos tipos de dados (ex: `float64`, `int64`)\n",
    "- Estimar o uso de memória do dataset\n"
   ]
  },
  {
   "cell_type": "code",
   "execution_count": null,
   "id": "bdd2ea51",
   "metadata": {
    "vscode": {
     "languageId": "plaintext"
    }
   },
   "outputs": [],
   "source": [
    "# Resumo da estrutura do DataFrame\n",
    "df.info()\n"
   ]
  },
  {
   "cell_type": "markdown",
   "id": "79668b80",
   "metadata": {},
   "source": [
    "### 📊 Estatísticas descritivas com `.describe()`\n",
    "\n",
    "O método `df.describe()` gera estatísticas descritivas para as colunas numéricas do DataFrame, como:\n",
    "\n",
    "- Média\n",
    "- Desvio padrão\n",
    "- Valores mínimos e máximos\n",
    "- Quartis (Q1, Q2 - mediana, Q3)\n",
    "\n",
    "Esses dados ajudam a identificar:\n",
    "\n",
    "- Distribuições assimétricas\n",
    "- Outliers (valores extremos)\n",
    "- Escalas distintas entre variáveis\n",
    "\n",
    "É especialmente útil antes de aplicar transformações como normalização ou padronização.\n"
   ]
  },
  {
   "cell_type": "code",
   "execution_count": null,
   "id": "065dfd01",
   "metadata": {
    "vscode": {
     "languageId": "plaintext"
    }
   },
   "outputs": [],
   "source": [
    "# Estatísticas descritivas das variáveis numéricas\n",
    "df.describe()\n"
   ]
  },
  {
   "cell_type": "markdown",
   "id": "4c4b4ac2",
   "metadata": {},
   "source": [
    "## 3. Pré-processamento de Texto (Análise Auxiliar)\n",
    "\n",
    "Como solicitado pelo professor, incluímos nesta etapa a aplicação de técnicas de pré-processamento textual.  \n",
    "Embora o dataset principal (`creditcard.csv`) não contenha campos de texto, construímos um **texto explicativo do projeto** como corpus base.\n",
    "\n",
    "As etapas aplicadas foram:\n",
    "\n",
    "- Minificação do texto (lowercase)\n",
    "- Remoção de pontuação, acentuação e dígitos\n",
    "- Remoção de stopwords\n",
    "- Stemming com `PorterStemmer`\n",
    "- Vetorização com TF-IDF\n",
    "\n",
    "A seguir, mostramos cada etapa aplicada ao texto.\n"
   ]
  },
  {
   "cell_type": "markdown",
   "id": "db480646",
   "metadata": {},
   "source": [
    "### 📚 Importação das bibliotecas\n"
   ]
  },
  {
   "cell_type": "code",
   "execution_count": null,
   "id": "d144c195",
   "metadata": {
    "vscode": {
     "languageId": "plaintext"
    }
   },
   "outputs": [],
   "source": [
    "import re\n",
    "import string\n",
    "import numpy as np\n",
    "import pandas as pd\n",
    "\n",
    "from unidecode import unidecode\n",
    "\n",
    "import nltk\n",
    "from nltk.corpus import stopwords\n",
    "from nltk.stem import PorterStemmer\n",
    "\n",
    "from sklearn.feature_extraction.text import TfidfVectorizer\n"
   ]
  },
  {
   "cell_type": "markdown",
   "id": "e9742b4c",
   "metadata": {},
   "source": [
    "### 🧾 Texto explicativo do projeto (usado como corpus)\n"
   ]
  },
  {
   "cell_type": "code",
   "execution_count": null,
   "id": "e8ee76a4",
   "metadata": {
    "vscode": {
     "languageId": "plaintext"
    }
   },
   "outputs": [],
   "source": [
    "texto_projeto = \"\"\"Este projeto tem como objetivo desenvolver um sistema inteligente capaz de detectar fraudes em transações financeiras \n",
    "por meio de técnicas avançadas de aprendizado de máquina supervisionado. A solução proposta busca identificar padrões \n",
    "anômalos em grandes volumes de dados, utilizando etapas rigorosas de pré-processamento textual, vetorização e \n",
    "modelagem preditiva. O desempenho dos modelos será avaliado com base em métricas como acurácia, precisão, recall e \n",
    "F1-score, assegurando sua robustez e aplicabilidade em contextos reais. Destinado a instituições financeiras, o \n",
    "sistema funcionará como uma ferramenta preventiva, reforçando a segurança digital e contribuindo para a mitigação de \n",
    "perdas decorrentes de atividades fraudulentas.\n",
    "\"\"\"\n"
   ]
  },
  {
   "cell_type": "markdown",
   "id": "e476cdd8",
   "metadata": {},
   "source": [
    "### 🧼 Pré-processamento inicial (minúsculas, pontuação, acentos, dígitos)\n"
   ]
  },
  {
   "cell_type": "code",
   "execution_count": null,
   "id": "97eb8929",
   "metadata": {
    "vscode": {
     "languageId": "plaintext"
    }
   },
   "outputs": [],
   "source": [
    "# 1. Minúsculas\n",
    "texto = texto_projeto.lower()\n",
    "\n",
    "# 2. Remoção de pontuação\n",
    "punctuation = string.punctuation\n",
    "trantab = str.maketrans(punctuation, len(punctuation) * ' ')\n",
    "texto = texto.translate(trantab)\n",
    "\n",
    "# 3. Remoção de acentos\n",
    "texto = unidecode(texto)\n",
    "\n",
    "# 4. Remoção de dígitos\n",
    "texto = re.sub(r'\\d+', '', texto)\n"
   ]
  },
  {
   "cell_type": "markdown",
   "id": "fc35f462",
   "metadata": {},
   "source": [
    "### ❌ Remoção de stopwords (com `try-except`)\n"
   ]
  },
  {
   "cell_type": "code",
   "execution_count": null,
   "id": "ff89df9f",
   "metadata": {
    "vscode": {
     "languageId": "plaintext"
    }
   },
   "outputs": [],
   "source": [
    "try:\n",
    "    stopwords_list = stopwords.words('portuguese')\n",
    "except:\n",
    "    nltk.download('stopwords')\n",
    "    stopwords_list = stopwords.words('portuguese')\n",
    "\n",
    "palavras = texto.split()\n",
    "palavras_filtradas = [palavra for palavra in palavras if palavra not in stopwords_list and len(palavra) > 1]\n",
    "texto_limpo = \" \".join(palavras_filtradas)\n",
    "\n",
    "print(texto_limpo)\n"
   ]
  },
  {
   "cell_type": "markdown",
   "id": "3b263b98",
   "metadata": {},
   "source": [
    "### 🧪 Stemming com `PorterStemmer`\n"
   ]
  },
  {
   "cell_type": "code",
   "execution_count": null,
   "id": "85bcf19c",
   "metadata": {
    "vscode": {
     "languageId": "plaintext"
    }
   },
   "outputs": [],
   "source": [
    "stemmer = PorterStemmer()\n",
    "texto_stemmed = \" \".join([stemmer.stem(palavra) for palavra in texto_limpo.split()])\n",
    "\n",
    "print(texto_stemmed)\n"
   ]
  },
  {
   "cell_type": "markdown",
   "id": "d310fead",
   "metadata": {},
   "source": [
    "### 🧠 Vetorização com TF-IDF\n"
   ]
  },
  {
   "cell_type": "code",
   "execution_count": null,
   "id": "f8e65189",
   "metadata": {
    "vscode": {
     "languageId": "plaintext"
    }
   },
   "outputs": [],
   "source": [
    "corpus = np.array([\n",
    "    texto_stemmed,\n",
    "    \"sistema inteligente detectar padrao comportamento transacao financeira\"\n",
    "])\n",
    "\n",
    "vectorizer = TfidfVectorizer()\n",
    "tfidf_result = vectorizer.fit_transform(corpus)\n",
    "\n",
    "df_tfidf = pd.DataFrame.sparse.from_spmatrix(tfidf_result, columns=vectorizer.get_feature_names_out())\n",
    "df_tfidf\n"
   ]
  },
  {
   "cell_type": "markdown",
   "id": "49941977",
   "metadata": {},
   "source": [
    "## 4. Análise Exploratória de Dados (EDA)\n",
    "\n",
    "Nesta etapa, buscamos explorar visualmente os dados para compreender a distribuição de valores, detectar padrões, identificar valores discrepantes (outliers) e verificar o comportamento da variável-alvo `Class`.\n",
    "\n",
    "Além disso, serão aplicadas transformações simples para comparar o \"antes e depois\" dos dados, conforme exigido na atividade da disciplina.\n"
   ]
  },
  {
   "cell_type": "markdown",
   "id": "888fe485",
   "metadata": {},
   "source": [
    "### 🎯 Distribuição da variável-alvo `Class`\n",
    "\n",
    "Vamos visualizar a proporção entre transações legítimas (`Class = 0`) e fraudulentas (`Class = 1`).\n"
   ]
  },
  {
   "cell_type": "code",
   "execution_count": null,
   "id": "31a3e9bd",
   "metadata": {
    "vscode": {
     "languageId": "plaintext"
    }
   },
   "outputs": [],
   "source": [
    "sns.countplot(x='Class', data=df, palette='Set2')\n",
    "plt.title('Distribuição das Transações (0 = Legítima, 1 = Fraude)')\n",
    "plt.xlabel('Classe')\n",
    "plt.ylabel('Contagem')\n",
    "plt.show()\n"
   ]
  },
  {
   "cell_type": "markdown",
   "id": "f2977e3a",
   "metadata": {},
   "source": [
    "A maior parte das transações é legítima (`Class = 0`). Apenas **0,172%** dos registros representam fraudes (`Class = 1`), o que confirma que o dataset é altamente desbalanceado.  \n",
    "Isso influenciará diretamente na escolha dos algoritmos e nas métricas de avaliação utilizadas posteriormente.\n"
   ]
  },
  {
   "cell_type": "markdown",
   "id": "295a1233",
   "metadata": {},
   "source": [
    "### 💶 Análise da variável `Amount`\n",
    "\n",
    "Vamos analisar a distribuição dos valores das transações antes de qualquer transformação, utilizando:\n",
    "\n",
    "- Histograma (para ver concentração)\n",
    "- Boxplot (para observar outliers)\n"
   ]
  },
  {
   "cell_type": "code",
   "execution_count": null,
   "id": "24139771",
   "metadata": {
    "vscode": {
     "languageId": "plaintext"
    }
   },
   "outputs": [],
   "source": [
    "plt.figure(figsize=(10, 4))\n",
    "sns.histplot(df['Amount'], bins=50, kde=True)\n",
    "plt.title('Distribuição dos Valores das Transações (Antes da Normalização)')\n",
    "plt.xlabel('Valor (€)')\n",
    "plt.ylabel('Frequência')\n",
    "plt.show()\n"
   ]
  },
  {
   "cell_type": "code",
   "execution_count": null,
   "id": "200451ab",
   "metadata": {
    "vscode": {
     "languageId": "plaintext"
    }
   },
   "outputs": [],
   "source": [
    "plt.figure(figsize=(10, 2))\n",
    "sns.boxplot(x=df['Amount'])\n",
    "plt.title('Boxplot do Valor das Transações (Antes da Normalização)')\n",
    "plt.xlabel('Valor (€)')\n",
    "plt.show()\n"
   ]
  },
  {
   "cell_type": "markdown",
   "id": "7aaf75af",
   "metadata": {},
   "source": [
    "Os gráficos mostram que a maioria das transações possui valores baixos, concentrados abaixo de €100.  \n",
    "Entretanto, existem outliers (valores muito altos), o que pode distorcer análises e impactar algoritmos sensíveis à escala, como regressão logística e KNN.\n",
    "\n",
    "Por isso, será necessário aplicar uma transformação de escala nos valores.\n"
   ]
  },
  {
   "cell_type": "markdown",
   "id": "be87a817",
   "metadata": {},
   "source": [
    "### 🔧 Normalização do valor da transação (`Amount`)\n",
    "\n",
    "Alguns algoritmos de Machine Learning são sensíveis à escala dos dados. Como a variável `Amount` apresenta uma grande variação e outliers, vamos aplicar a **normalização com `StandardScaler`**, que transforma os dados para que tenham média 0 e desvio padrão 1.\n",
    "\n",
    "Dessa forma, o algoritmo será menos influenciado por diferenças de escala.\n"
   ]
  },
  {
   "cell_type": "code",
   "execution_count": null,
   "id": "3b6d9b77",
   "metadata": {
    "vscode": {
     "languageId": "plaintext"
    }
   },
   "outputs": [],
   "source": [
    "from sklearn.preprocessing import StandardScaler\n",
    "\n",
    "# Instanciando o normalizador\n",
    "scaler = StandardScaler()\n",
    "\n",
    "# Aplicando ao Amount\n",
    "df['Amount_Scaled'] = scaler.fit_transform(df[['Amount']])\n",
    "\n",
    "# Verificando estatísticas antes e depois\n",
    "df[['Amount', 'Amount_Scaled']].describe()\n"
   ]
  },
  {
   "cell_type": "markdown",
   "id": "a47128a5",
   "metadata": {},
   "source": [
    "### 📊 Comparação “Antes e Depois” com Gráficos\n",
    "\n",
    "Vamos comparar a distribuição da variável `Amount` antes e depois da transformação.\n"
   ]
  },
  {
   "cell_type": "code",
   "execution_count": null,
   "id": "4213c808",
   "metadata": {
    "vscode": {
     "languageId": "plaintext"
    }
   },
   "outputs": [],
   "source": [
    "fig, axs = plt.subplots(nrows=1, ncols=2, figsize=(14, 4))\n",
    "\n",
    "# Boxplot original\n",
    "sns.boxplot(x=df['Amount'], ax=axs[0], color='skyblue')\n",
    "axs[0].set_title('Antes da Normalização')\n",
    "axs[0].set_xlabel('Amount (€)')\n",
    "\n",
    "# Boxplot escalado\n",
    "sns.boxplot(x=df['Amount_Scaled'], ax=axs[1], color='lightgreen')\n",
    "axs[1].set_title('Depois da Normalização')\n",
    "axs[1].set_xlabel('Amount Scaled')\n",
    "\n",
    "plt.suptitle('Boxplots Comparativos - Amount Original vs Normalizado')\n",
    "plt.tight_layout()\n",
    "plt.show()\n"
   ]
  },
  {
   "cell_type": "markdown",
   "id": "3c8d5024",
   "metadata": {},
   "source": [
    "### 📊 Histograma do valor normalizado das transações\n",
    "\n",
    "Para complementar a visualização, vamos analisar o histograma da variável `Amount_Scaled` após a transformação com `StandardScaler`.\n"
   ]
  },
  {
   "cell_type": "code",
   "execution_count": null,
   "id": "4c7331c6",
   "metadata": {
    "vscode": {
     "languageId": "plaintext"
    }
   },
   "outputs": [],
   "source": [
    "plt.figure(figsize=(10, 4))\n",
    "sns.histplot(df['Amount_Scaled'], bins=50, kde=True, color='green')\n",
    "plt.title('Distribuição do Valor das Transações Após Normalização')\n",
    "plt.xlabel('Amount Scaled')\n",
    "plt.ylabel('Frequência')\n",
    "plt.show()\n"
   ]
  },
  {
   "cell_type": "markdown",
   "id": "62ed925f",
   "metadata": {},
   "source": [
    "A transformação com `StandardScaler` centralizou os dados de `Amount_Scaled` em torno de zero e reduziu a variância.  \n",
    "Isso facilita a aprendizagem dos algoritmos e mitiga a influência de outliers extremos.  \n",
    "O valor original foi mantido em `Amount` para fins de referência, enquanto o modelo utilizará `Amount_Scaled`.\n"
   ]
  }
 ],
 "metadata": {
  "language_info": {
   "name": "python"
  }
 },
 "nbformat": 4,
 "nbformat_minor": 5
}
